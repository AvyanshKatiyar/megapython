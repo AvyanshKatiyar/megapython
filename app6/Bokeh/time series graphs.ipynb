{
 "cells": [
  {
   "cell_type": "code",
   "execution_count": 2,
   "id": "cellular-generation",
   "metadata": {},
   "outputs": [],
   "source": [
    "from bokeh.plotting import figure\n",
    "from bokeh.io import output_file, show\n",
    "import pandas\n",
    "\n",
    "df=pandas.read_csv(\"adbe.csv\", parse_dates=[\"Date\"])\n",
    "\n",
    "p=figure(width=500, height= 250, x_axis_type=\"datetime\")\n",
    "\n",
    "p.line(df[\"Date\"], df[\"Close\"], line_color=\"green\", alpha=0.5)\n",
    "\n",
    "#[i*2 for i in df[\"Close\"]] multiplies the list by 2\n",
    "p.circle( df[\"Date\"], [i*2 for i in df[\"Close\"]], size=1, color = \"green\", alpha=0.5)\n",
    "\n",
    "\n",
    "\n",
    "output_file=(\"Timeseries1.html\")\n",
    "show(p)"
   ]
  },
  {
   "cell_type": "code",
   "execution_count": null,
   "id": "divine-first",
   "metadata": {},
   "outputs": [],
   "source": []
  },
  {
   "cell_type": "code",
   "execution_count": null,
   "id": "incredible-plumbing",
   "metadata": {},
   "outputs": [],
   "source": []
  },
  {
   "cell_type": "code",
   "execution_count": null,
   "id": "missing-nigeria",
   "metadata": {},
   "outputs": [],
   "source": []
  },
  {
   "cell_type": "code",
   "execution_count": null,
   "id": "neural-strategy",
   "metadata": {},
   "outputs": [],
   "source": []
  }
 ],
 "metadata": {
  "kernelspec": {
   "display_name": "Python 3",
   "language": "python",
   "name": "python3"
  },
  "language_info": {
   "codemirror_mode": {
    "name": "ipython",
    "version": 3
   },
   "file_extension": ".py",
   "mimetype": "text/x-python",
   "name": "python",
   "nbconvert_exporter": "python",
   "pygments_lexer": "ipython3",
   "version": "3.9.0"
  }
 },
 "nbformat": 4,
 "nbformat_minor": 5
}
