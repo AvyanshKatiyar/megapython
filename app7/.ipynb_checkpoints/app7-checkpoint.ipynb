{
 "cells": [
  {
   "cell_type": "code",
   "execution_count": 33,
   "id": "lightweight-pattern",
   "metadata": {},
   "outputs": [
    {
     "data": {
      "text/plain": [
       "'$725,000'"
      ]
     },
     "execution_count": 33,
     "metadata": {},
     "output_type": "execute_result"
    }
   ],
   "source": [
    "#r = requests.get(\"http://www.pyclass.com/real-estate/rock-springs-wy/LCWYROCKSPRINGS/\", headers={'User-agent': 'Mozilla/5.0 (X11; Ubuntu; Linux x86_64; rv:61.0) Gecko/20100101 Firefox/61.0'})\n",
    "\n",
    "\n",
    "\n",
    "import requests\n",
    "from bs4 import BeautifulSoup\n",
    "\n",
    "r = requests.get(\"http://www.pyclass.com/real-estate/rock-springs-wy/LCWYROCKSPRINGS/\", headers={'User-agent': 'Mozilla/5.0 (X11; Ubuntu; Linux x86_64; rv:61.0) Gecko/20100101 Firefox/61.0'})\n",
    "c=r.content\n",
    "\n",
    "\n",
    "\n",
    "soup=BeautifulSoup(c, \"html.parser\")\n",
    "#print(soup.prettify())\n",
    "\n",
    "#now we need to understand the structure of the page\n",
    "\n",
    "all=soup.find_all(\"div\",{\"class\":\"propertyRow\"})\n",
    "#all\n",
    "all[0].find_all(\"h4\",{\"class\":\"propPrice\"})\n",
    "\n",
    "\n",
    "all[0].find_all(\"h4\",{\"class\":\"propPrice\"})[0].text\n",
    "\n",
    "\n",
    "\n",
    "#removing extras\n",
    "all[0].find_all(\"h4\",{\"class\":\"propPrice\"})[0].text.replace(\"\\n\",\"\").replace(\" \",\"\")\n",
    "\n"
   ]
  },
  {
   "cell_type": "code",
   "execution_count": 35,
   "id": "single-digit",
   "metadata": {},
   "outputs": [
    {
     "name": "stdout",
     "output_type": "stream",
     "text": [
      "$725,000\n",
      "$452,900\n",
      "$396,900\n",
      "$389,900\n",
      "$254,000\n",
      "$252,900\n",
      "$210,000\n",
      "$209,000\n",
      "$199,900\n",
      "$196,900\n"
     ]
    }
   ],
   "source": [
    "for a in all:\n",
    "    print(a.find_all(\"h4\",{\"class\":\"propPrice\"})[0].text.replace(\"\\n\",\"\").replace(\" \",\"\"))"
   ]
  },
  {
   "cell_type": "code",
   "execution_count": 131,
   "id": "cognitive-commerce",
   "metadata": {},
   "outputs": [
    {
     "name": "stdout",
     "output_type": "stream",
     "text": [
      "0 Gateway\n",
      "Rock Springs, WY 82901\n",
      "None\n",
      "None\n",
      "None\n",
      "None\n",
      " \n",
      "1003 Winchester Blvd.\n",
      "Rock Springs, WY 82901\n",
      "4\n",
      "None\n",
      "4\n",
      "None\n",
      "0.21 Acres\n",
      " \n",
      "600 Talladega\n",
      "Rock Springs, WY 82901\n",
      "5\n",
      "3,154\n",
      "3\n",
      "None\n",
      " \n",
      "3239 Spearhead Way\n",
      "Rock Springs, WY 82901\n",
      "4\n",
      "3,076\n",
      "3\n",
      "1\n",
      "Under 1/2 Acre, \n",
      " \n",
      "522 Emerald Street\n",
      "Rock Springs, WY 82901\n",
      "3\n",
      "1,172\n",
      "3\n",
      "None\n",
      "Under 1/2 Acre, \n",
      " \n",
      "1302 Veteran's Drive\n",
      "Rock Springs, WY 82901\n",
      "4\n",
      "1,932\n",
      "2\n",
      "None\n",
      "0.27 Acres\n",
      " \n",
      "1021 Cypress Cir\n",
      "Rock Springs, WY 82901\n",
      "4\n",
      "1,676\n",
      "3\n",
      "None\n",
      "Under 1/2 Acre, \n",
      " \n",
      "913 Madison Dr\n",
      "Rock Springs, WY 82901\n",
      "3\n",
      "1,344\n",
      "2\n",
      "None\n",
      "Under 1/2 Acre, \n",
      " \n",
      "1344 Teton Street\n",
      "Rock Springs, WY 82901\n",
      "3\n",
      "1,920\n",
      "2\n",
      "None\n",
      "Under 1/2 Acre, \n",
      " \n",
      "4 Minnies Lane\n",
      "Rock Springs, WY 82901\n",
      "3\n",
      "1,664\n",
      "2\n",
      "None\n",
      "2.02 Acres\n",
      " \n"
     ]
    }
   ],
   "source": [
    "#address\n",
    "for item in all:\n",
    "    print(a.find_all(\"h4\",{\"class\":\"propPrice\"})[0].text.replace(\"\\n\",\"\").replace(\" \",\"\"))\n",
    "    print(item.find_all(\"span\",{\"class\":\"propAddressCollapse\"})[0].text)\n",
    "    print(item.find_all(\"span\",{\"class\":\"propAddressCollapse\"})[1].text)\n",
    "    \n",
    "    try:\n",
    "        print(item.find(\"span\",{\"class\":\"infoBed\"}).find(\"b\").text)\n",
    "    except:\n",
    "        print(None)\n",
    "        \n",
    "\n",
    "    try:\n",
    "        print(item.find(\"span\",{\"class\":\"infoSqFt\"}).find(\"b\").text)\n",
    "    except:\n",
    "             print(None)\n",
    "                \n",
    "\n",
    "    try:\n",
    "        print(item.find(\"span\",{\"class\":\"infoValueFullBath\"}).find(\"b\").text)\n",
    "    except:\n",
    "         print(None)\n",
    "            \n",
    "    try:\n",
    "        print(item.find(\"span\",{\"class\":\"infoValueHalfBath\"}).find(\"b\").text)\n",
    "    except:\n",
    "         print(None)\n",
    "            \n",
    "            \n",
    "    for column_group in item.find_all(\"div\", {\"class\": \"columnGroup\"}):\n",
    "        #print(column_group)\n",
    "        \n",
    "        \n",
    "        for (feature_group, feature_name) in zip(column_group.find_all(\"span\", {\"class\":\"featureGroup\"}),column_group.find_all(\"span\", {\"class\":\"featureName\"})):\n",
    "            if \"Lot Size:\" in feature_group.text:\n",
    "                print (feature_name.text)\n",
    "\n",
    "            \n",
    "            \n",
    "            #print(feature_group.text, feature_name.text)\n",
    "            \n",
    "    print(\" \")"
   ]
  },
  {
   "cell_type": "code",
   "execution_count": 89,
   "id": "altered-omega",
   "metadata": {},
   "outputs": [
    {
     "name": "stdout",
     "output_type": "stream",
     "text": [
      "None\n",
      "4\n",
      "5\n",
      "4\n",
      "3\n",
      "4\n",
      "4\n",
      "3\n",
      "3\n",
      "3\n"
     ]
    }
   ],
   "source": [
    "\n",
    "for item in all:\n",
    "    try:\n",
    "        print(item.find(\"span\",{\"class\":\"infoBed\"}).find(\"b\").text)\n",
    "    except:\n",
    "        print(None)"
   ]
  },
  {
   "cell_type": "code",
   "execution_count": 88,
   "id": "provincial-birth",
   "metadata": {},
   "outputs": [
    {
     "name": "stdout",
     "output_type": "stream",
     "text": [
      "None\n",
      "None\n",
      "3,154\n",
      "3,076\n",
      "1,172\n",
      "1,932\n",
      "1,676\n",
      "1,344\n",
      "1,920\n",
      "1,664\n"
     ]
    }
   ],
   "source": [
    "for item in all:\n",
    "    try:\n",
    "        print(item.find(\"span\",{\"class\":\"infoSqFt\"}).find(\"b\").text)\n",
    "    except:\n",
    "         print(None)"
   ]
  },
  {
   "cell_type": "code",
   "execution_count": 87,
   "id": "czech-cuisine",
   "metadata": {},
   "outputs": [
    {
     "name": "stdout",
     "output_type": "stream",
     "text": [
      "None\n",
      "4\n",
      "3\n",
      "3\n",
      "3\n",
      "2\n",
      "3\n",
      "2\n",
      "2\n",
      "2\n"
     ]
    }
   ],
   "source": [
    "for item in all:\n",
    "    try:\n",
    "        print(item.find(\"span\",{\"class\":\"infoValueFullBath\"}).find(\"b\").text)\n",
    "    except:\n",
    "         print(None)"
   ]
  },
  {
   "cell_type": "code",
   "execution_count": 86,
   "id": "stainless-cylinder",
   "metadata": {},
   "outputs": [
    {
     "name": "stdout",
     "output_type": "stream",
     "text": [
      "None\n",
      "None\n",
      "None\n",
      "1\n",
      "None\n",
      "None\n",
      "None\n",
      "None\n",
      "None\n",
      "None\n"
     ]
    }
   ],
   "source": [
    "for item in all:\n",
    "    try:\n",
    "        print(item.find(\"span\",{\"class\":\"infoValueHalfBath\"}).find(\"b\").text)\n",
    "    except:\n",
    "         print(None)"
   ]
  }
 ],
 "metadata": {
  "kernelspec": {
   "display_name": "Python 3",
   "language": "python",
   "name": "python3"
  },
  "language_info": {
   "codemirror_mode": {
    "name": "ipython",
    "version": 3
   },
   "file_extension": ".py",
   "mimetype": "text/x-python",
   "name": "python",
   "nbconvert_exporter": "python",
   "pygments_lexer": "ipython3",
   "version": "3.9.0"
  }
 },
 "nbformat": 4,
 "nbformat_minor": 5
}
